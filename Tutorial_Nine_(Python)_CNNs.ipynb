{
  "nbformat": 4,
  "nbformat_minor": 0,
  "metadata": {
    "colab": {
      "name": "Tutorial Nine (Python): CNNs ",
      "provenance": [],
      "collapsed_sections": []
    },
    "kernelspec": {
      "display_name": "Python 3",
      "language": "python",
      "name": "python3"
    },
    "language_info": {
      "codemirror_mode": {
        "name": "ipython",
        "version": 3
      },
      "file_extension": ".py",
      "mimetype": "text/x-python",
      "name": "python",
      "nbconvert_exporter": "python",
      "pygments_lexer": "ipython3",
      "version": "3.7.0"
    },
    "accelerator": "GPU"
  },
  "cells": [
    {
      "cell_type": "markdown",
      "metadata": {
        "id": "ucZj9e2JucZr"
      },
      "source": [
        "# Classification with Convolutional Neural Networks\n",
        "\n",
        "## Douglas Rice\n",
        "\n",
        "In this notebook, we'll introduce Convolutional Neural Network architecture. As before, building the models in Keras requires relatively straightforward modifications from our prior work. \n"
      ]
    },
    {
      "cell_type": "markdown",
      "metadata": {
        "id": "jCs4681FucZs"
      },
      "source": [
        "## Set Everything Up"
      ]
    },
    {
      "cell_type": "markdown",
      "source": [
        "As always, we start by getting our environment, loading in the modules and functionality that we'll need to estimate the model."
      ],
      "metadata": {
        "id": "nELx1ItFes8B"
      }
    },
    {
      "cell_type": "code",
      "metadata": {
        "id": "C9v3e9tRucZs"
      },
      "source": [
        "import numpy as np\n",
        "from tensorflow import keras\n",
        "from tensorflow.keras import layers, models\n",
        "from keras import models\n",
        "\n",
        "max_features = 5000\n",
        "maxlen = None  # This will pad shorter reviews to the length of the longest review. Set maxlen=200 or 500 for less padding at the expense of truncating the reviews.\n"
      ],
      "execution_count": null,
      "outputs": []
    },
    {
      "cell_type": "markdown",
      "metadata": {
        "id": "SwWl9aPEucZt"
      },
      "source": [
        "## Load the IMDB movie review sentiment data"
      ]
    },
    {
      "cell_type": "markdown",
      "source": [
        "We'll stick with the IMDB movie review sentiment data that ships with Keras for this exercise. This also maintains oru ability to make relatively straightforward comparisons across all of these different modeling approaches."
      ],
      "metadata": {
        "id": "Vzb7rQnxe6ZT"
      }
    },
    {
      "cell_type": "code",
      "metadata": {
        "id": "_dhoU-3MvLSW",
        "colab": {
          "base_uri": "https://localhost:8080/"
        },
        "outputId": "6ac1a276-70b3-4096-c890-87b2c7b283d8"
      },
      "source": [
        "(x_train, y_train), (x_test, y_test) = keras.datasets.imdb.load_data(\n",
        "    num_words=max_features\n",
        ")\n",
        "x_val = x_train[:10000]\n",
        "partial_x_train = x_train[10000:]\n",
        "y_val = y_train[:10000]\n",
        "partial_y_train = y_train[10000:]\n",
        "print(len(x_train), \"Training sequences\")\n",
        "print(len(x_test), \"Test sequences\")\n",
        "partial_x_train = keras.preprocessing.sequence.pad_sequences(partial_x_train, maxlen=maxlen)\n",
        "x_val = keras.preprocessing.sequence.pad_sequences(x_val, maxlen=maxlen)\n",
        "x_test = keras.preprocessing.sequence.pad_sequences(x_test, maxlen=maxlen)"
      ],
      "execution_count": null,
      "outputs": [
        {
          "output_type": "stream",
          "name": "stdout",
          "text": [
            "Downloading data from https://storage.googleapis.com/tensorflow/tf-keras-datasets/imdb.npz\n",
            "17465344/17464789 [==============================] - 0s 0us/step\n",
            "17473536/17464789 [==============================] - 0s 0us/step\n",
            "25000 Training sequences\n",
            "25000 Test sequences\n"
          ]
        }
      ]
    },
    {
      "cell_type": "markdown",
      "metadata": {
        "id": "T4NGMddsucZt"
      },
      "source": [
        "## Build a basic CNN model\n",
        "\n",
        "Now we'll build a basic CNN. To do so, we incorporate two new types of layers in our Sequential model. The first is a 1D convolution layer (`Conv1D` in the below). This layer creates a convolution kernel that is convolved with the layer input over a single temporal dimension. The second is a pooling layer (`GlobalMaxPooling1D`) that downsamples the input representation by taking the maximum value over the time dimension.\n",
        "\n",
        " "
      ]
    },
    {
      "cell_type": "code",
      "source": [
        "# Shallow CNN\n",
        "model = models.Sequential()\n",
        "model.add(layers.Input(shape=(None,), dtype=\"int32\"))\n",
        "model.add(layers.Embedding(max_features,16))\n",
        "model.add(layers.Conv1D(128, 3, activation='relu'))\n",
        "model.add(layers.GlobalMaxPooling1D())\n",
        "model.add(layers.Dense(16, activation='relu'))\n",
        "model.add(layers.Dropout(0.2))\n",
        "model.add(layers.Dense(1, activation='sigmoid'))\n",
        "model.summary()\n"
      ],
      "metadata": {
        "colab": {
          "base_uri": "https://localhost:8080/"
        },
        "id": "kbrPO5L3Sje0",
        "outputId": "10248350-09a1-47d9-ac41-bd289036ab35"
      },
      "execution_count": null,
      "outputs": [
        {
          "output_type": "stream",
          "name": "stdout",
          "text": [
            "Model: \"sequential\"\n",
            "_________________________________________________________________\n",
            " Layer (type)                Output Shape              Param #   \n",
            "=================================================================\n",
            " embedding (Embedding)       (None, None, 16)          80000     \n",
            "                                                                 \n",
            " conv1d (Conv1D)             (None, None, 128)         6272      \n",
            "                                                                 \n",
            " global_max_pooling1d (Globa  (None, 128)              0         \n",
            " lMaxPooling1D)                                                  \n",
            "                                                                 \n",
            " dense (Dense)               (None, 16)                2064      \n",
            "                                                                 \n",
            " dropout (Dropout)           (None, 16)                0         \n",
            "                                                                 \n",
            " dense_1 (Dense)             (None, 1)                 17        \n",
            "                                                                 \n",
            "=================================================================\n",
            "Total params: 88,353\n",
            "Trainable params: 88,353\n",
            "Non-trainable params: 0\n",
            "_________________________________________________________________\n"
          ]
        }
      ]
    },
    {
      "cell_type": "markdown",
      "metadata": {
        "id": "jiPPmdL6ucZu"
      },
      "source": [
        "## Train and evaluate the model"
      ]
    },
    {
      "cell_type": "markdown",
      "source": [
        "This takes about 15 minutes to run if you are not on a GPU."
      ],
      "metadata": {
        "id": "FNEtH6dvHNRu"
      }
    },
    {
      "cell_type": "code",
      "metadata": {
        "id": "OegHDyQGwG7n"
      },
      "source": [
        "model.compile(\"adam\", \"binary_crossentropy\", metrics=[\"accuracy\"])"
      ],
      "execution_count": null,
      "outputs": []
    },
    {
      "cell_type": "code",
      "metadata": {
        "id": "UeDnMihFxb1A",
        "colab": {
          "base_uri": "https://localhost:8080/"
        },
        "outputId": "d5f61f3a-8eb7-4f2f-9b04-5f8700fead3b"
      },
      "source": [
        "model.fit(partial_x_train, partial_y_train, batch_size=512, epochs=12, validation_data=(x_val, y_val))"
      ],
      "execution_count": null,
      "outputs": [
        {
          "output_type": "stream",
          "name": "stdout",
          "text": [
            "Epoch 1/12\n",
            "30/30 [==============================] - 18s 138ms/step - loss: 0.6910 - accuracy: 0.5329 - val_loss: 0.6867 - val_accuracy: 0.7107\n",
            "Epoch 2/12\n",
            "30/30 [==============================] - 4s 126ms/step - loss: 0.6718 - accuracy: 0.6660 - val_loss: 0.6426 - val_accuracy: 0.7706\n",
            "Epoch 3/12\n",
            "30/30 [==============================] - 4s 126ms/step - loss: 0.5788 - accuracy: 0.7734 - val_loss: 0.4931 - val_accuracy: 0.8046\n",
            "Epoch 4/12\n",
            "30/30 [==============================] - 4s 127ms/step - loss: 0.4353 - accuracy: 0.8143 - val_loss: 0.3884 - val_accuracy: 0.8291\n",
            "Epoch 5/12\n",
            "30/30 [==============================] - 4s 128ms/step - loss: 0.3520 - accuracy: 0.8515 - val_loss: 0.3474 - val_accuracy: 0.8487\n",
            "Epoch 6/12\n",
            "30/30 [==============================] - 4s 127ms/step - loss: 0.2929 - accuracy: 0.8847 - val_loss: 0.3224 - val_accuracy: 0.8624\n",
            "Epoch 7/12\n",
            "30/30 [==============================] - 4s 128ms/step - loss: 0.2426 - accuracy: 0.9121 - val_loss: 0.3098 - val_accuracy: 0.8687\n",
            "Epoch 8/12\n",
            "30/30 [==============================] - 4s 130ms/step - loss: 0.2009 - accuracy: 0.9307 - val_loss: 0.3110 - val_accuracy: 0.8726\n",
            "Epoch 9/12\n",
            "30/30 [==============================] - 4s 129ms/step - loss: 0.1682 - accuracy: 0.9442 - val_loss: 0.3144 - val_accuracy: 0.8730\n",
            "Epoch 10/12\n",
            "30/30 [==============================] - 4s 132ms/step - loss: 0.1362 - accuracy: 0.9601 - val_loss: 0.3255 - val_accuracy: 0.8710\n",
            "Epoch 11/12\n",
            "30/30 [==============================] - 4s 129ms/step - loss: 0.1124 - accuracy: 0.9688 - val_loss: 0.3414 - val_accuracy: 0.8705\n",
            "Epoch 12/12\n",
            "30/30 [==============================] - 4s 129ms/step - loss: 0.0909 - accuracy: 0.9759 - val_loss: 0.3621 - val_accuracy: 0.8696\n"
          ]
        },
        {
          "output_type": "execute_result",
          "data": {
            "text/plain": [
              "<keras.callbacks.History at 0x7f5cd4d7abd0>"
            ]
          },
          "metadata": {},
          "execution_count": 5
        }
      ]
    },
    {
      "cell_type": "code",
      "metadata": {
        "colab": {
          "base_uri": "https://localhost:8080/"
        },
        "id": "vsiUYVUGiF7_",
        "outputId": "db6979ba-66be-429e-9fd0-03a7e272d12e"
      },
      "source": [
        "model.evaluate(x_test, y_test)"
      ],
      "execution_count": null,
      "outputs": [
        {
          "output_type": "stream",
          "name": "stdout",
          "text": [
            "782/782 [==============================] - 4s 5ms/step - loss: 0.3718 - accuracy: 0.8610\n"
          ]
        },
        {
          "output_type": "execute_result",
          "data": {
            "text/plain": [
              "[0.3718074858188629, 0.8610000014305115]"
            ]
          },
          "metadata": {},
          "execution_count": 6
        }
      ]
    },
    {
      "cell_type": "markdown",
      "metadata": {
        "id": "-vBd1d9AiKXX"
      },
      "source": [
        "We're at about 86%, similar to what we were seeing with the LSTM and Bi-LSTM. "
      ]
    },
    {
      "cell_type": "markdown",
      "metadata": {
        "id": "u6uDEGW7is8o"
      },
      "source": [
        "## Build a Deep CNN\n",
        "\n",
        "Let's try a more complex setup, and build a deeper CNN with multiple convolution layers and multiple pooling layers. "
      ]
    },
    {
      "cell_type": "code",
      "metadata": {
        "colab": {
          "base_uri": "https://localhost:8080/"
        },
        "id": "cgUN6Ckeis80",
        "outputId": "5882ea37-e3ff-4577-ad59-15d8c36284bb"
      },
      "source": [
        "model = models.Sequential()\n",
        "model.add(layers.Input(shape=(None,), dtype=\"int32\"))\n",
        "model.add(layers.Embedding(max_features,16))\n",
        "model.add(layers.Conv1D(256, 3, activation='relu',padding='same'))\n",
        "model.add(layers.MaxPooling1D())\n",
        "model.add(layers.Conv1D(128, 3, activation='relu'))\n",
        "model.add(layers.GlobalMaxPooling1D())\n",
        "model.add(layers.Dense(16, activation='relu'))\n",
        "model.add(layers.Dropout(0.2))\n",
        "model.add(layers.Dense(1, activation='sigmoid'))\n",
        "model.summary()\n"
      ],
      "execution_count": null,
      "outputs": [
        {
          "output_type": "stream",
          "name": "stdout",
          "text": [
            "Model: \"sequential_1\"\n",
            "_________________________________________________________________\n",
            " Layer (type)                Output Shape              Param #   \n",
            "=================================================================\n",
            " embedding_1 (Embedding)     (None, None, 16)          80000     \n",
            "                                                                 \n",
            " conv1d_1 (Conv1D)           (None, None, 256)         12544     \n",
            "                                                                 \n",
            " max_pooling1d (MaxPooling1D  (None, None, 256)        0         \n",
            " )                                                               \n",
            "                                                                 \n",
            " conv1d_2 (Conv1D)           (None, None, 128)         98432     \n",
            "                                                                 \n",
            " global_max_pooling1d_1 (Glo  (None, 128)              0         \n",
            " balMaxPooling1D)                                                \n",
            "                                                                 \n",
            " dense_2 (Dense)             (None, 16)                2064      \n",
            "                                                                 \n",
            " dropout_1 (Dropout)         (None, 16)                0         \n",
            "                                                                 \n",
            " dense_3 (Dense)             (None, 1)                 17        \n",
            "                                                                 \n",
            "=================================================================\n",
            "Total params: 193,057\n",
            "Trainable params: 193,057\n",
            "Non-trainable params: 0\n",
            "_________________________________________________________________\n"
          ]
        }
      ]
    },
    {
      "cell_type": "code",
      "metadata": {
        "id": "FQZ1SbjBis80"
      },
      "source": [
        "model.compile(\"adam\", \"binary_crossentropy\", metrics=[\"accuracy\"])"
      ],
      "execution_count": null,
      "outputs": []
    },
    {
      "cell_type": "code",
      "metadata": {
        "colab": {
          "base_uri": "https://localhost:8080/"
        },
        "id": "iCvCRKLIis81",
        "outputId": "37207b9a-b7ca-4e4e-c258-14bd4ed5ac5c"
      },
      "source": [
        "model.fit(partial_x_train, partial_y_train, batch_size=512, epochs=12, validation_data=(x_val, y_val))"
      ],
      "execution_count": null,
      "outputs": [
        {
          "output_type": "stream",
          "name": "stdout",
          "text": [
            "Epoch 1/12\n",
            "30/30 [==============================] - 15s 441ms/step - loss: 0.6933 - accuracy: 0.5031 - val_loss: 0.6918 - val_accuracy: 0.5392\n",
            "Epoch 2/12\n",
            "30/30 [==============================] - 12s 403ms/step - loss: 0.6691 - accuracy: 0.6184 - val_loss: 0.5809 - val_accuracy: 0.7283\n",
            "Epoch 3/12\n",
            "30/30 [==============================] - 12s 405ms/step - loss: 0.4802 - accuracy: 0.7795 - val_loss: 0.4090 - val_accuracy: 0.8169\n",
            "Epoch 4/12\n",
            "30/30 [==============================] - 12s 407ms/step - loss: 0.3477 - accuracy: 0.8587 - val_loss: 0.3855 - val_accuracy: 0.8306\n",
            "Epoch 5/12\n",
            "30/30 [==============================] - 12s 410ms/step - loss: 0.2789 - accuracy: 0.8959 - val_loss: 0.3904 - val_accuracy: 0.8319\n",
            "Epoch 6/12\n",
            "30/30 [==============================] - 12s 410ms/step - loss: 0.2322 - accuracy: 0.9185 - val_loss: 0.4059 - val_accuracy: 0.8291\n",
            "Epoch 7/12\n",
            "30/30 [==============================] - 12s 409ms/step - loss: 0.1964 - accuracy: 0.9374 - val_loss: 0.4419 - val_accuracy: 0.8224\n",
            "Epoch 8/12\n",
            "30/30 [==============================] - 12s 408ms/step - loss: 0.1715 - accuracy: 0.9435 - val_loss: 0.4613 - val_accuracy: 0.8269\n",
            "Epoch 9/12\n",
            "30/30 [==============================] - 12s 406ms/step - loss: 0.1468 - accuracy: 0.9567 - val_loss: 0.5050 - val_accuracy: 0.8266\n",
            "Epoch 10/12\n",
            "30/30 [==============================] - 12s 406ms/step - loss: 0.1284 - accuracy: 0.9621 - val_loss: 0.5369 - val_accuracy: 0.8256\n",
            "Epoch 11/12\n",
            "30/30 [==============================] - 12s 407ms/step - loss: 0.1063 - accuracy: 0.9703 - val_loss: 0.5807 - val_accuracy: 0.8252\n",
            "Epoch 12/12\n",
            "30/30 [==============================] - 12s 408ms/step - loss: 0.0923 - accuracy: 0.9749 - val_loss: 0.6293 - val_accuracy: 0.8217\n"
          ]
        },
        {
          "output_type": "execute_result",
          "data": {
            "text/plain": [
              "<keras.callbacks.History at 0x7f5cd86f87d0>"
            ]
          },
          "metadata": {},
          "execution_count": 9
        }
      ]
    },
    {
      "cell_type": "code",
      "metadata": {
        "colab": {
          "base_uri": "https://localhost:8080/"
        },
        "id": "aoA-rFxbis81",
        "outputId": "5280e7d0-ad3b-456d-ab60-947410702b98"
      },
      "source": [
        "model.evaluate(x_test, y_test)"
      ],
      "execution_count": null,
      "outputs": [
        {
          "output_type": "stream",
          "name": "stdout",
          "text": [
            "782/782 [==============================] - 9s 11ms/step - loss: 0.6401 - accuracy: 0.8174\n"
          ]
        },
        {
          "output_type": "execute_result",
          "data": {
            "text/plain": [
              "[0.6400715708732605, 0.8174399733543396]"
            ]
          },
          "metadata": {},
          "execution_count": 10
        }
      ]
    },
    {
      "cell_type": "markdown",
      "metadata": {
        "id": "VYKcrRBGjlzL"
      },
      "source": [
        "\n",
        "85%. Going in the wrong direction!"
      ]
    }
  ]
}